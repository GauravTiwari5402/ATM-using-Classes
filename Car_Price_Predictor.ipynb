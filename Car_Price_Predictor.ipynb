{
  "nbformat": 4,
  "nbformat_minor": 0,
  "metadata": {
    "colab": {
      "provenance": [],
      "authorship_tag": "ABX9TyMOOyCJD5U236KSyj8F1+k1",
      "include_colab_link": true
    },
    "kernelspec": {
      "name": "python3",
      "display_name": "Python 3"
    },
    "language_info": {
      "name": "python"
    }
  },
  "cells": [
    {
      "cell_type": "markdown",
      "metadata": {
        "id": "view-in-github",
        "colab_type": "text"
      },
      "source": [
        "<a href=\"https://colab.research.google.com/github/GauravTiwari5402/ATM-using-Classes/blob/main/Car_Price_Predictor.ipynb\" target=\"_parent\"><img src=\"https://colab.research.google.com/assets/colab-badge.svg\" alt=\"Open In Colab\"/></a>"
      ]
    },
    {
      "cell_type": "code",
      "source": [
        "import pandas as pd\n",
        "import numpy as np\n",
        "import matplotlib.pyplot as plt\n",
        "import matplotlib as mpl\n",
        "import seaborn as sns\n",
        "%matplotlib inline\n",
        "mpl.style.use('ggplot')\n",
        "from sklearn.model_selection import train_test_split\n",
        "from sklearn.linear_model import LinearRegression\n",
        "from sklearn.preprocessing import OneHotEncoder\n",
        "from sklearn.compose import make_column_transformer\n",
        "from sklearn.pipeline import make_pipeline\n",
        "from sklearn.metrics import r2_score"
      ],
      "metadata": {
        "id": "_tGt8eJk_mjR"
      },
      "execution_count": null,
      "outputs": []
    },
    {
      "cell_type": "code",
      "source": [
        "car=pd.read_csv(\"quikr_car.csv\")"
      ],
      "metadata": {
        "id": "tySndSWmAWT-"
      },
      "execution_count": null,
      "outputs": []
    },
    {
      "cell_type": "code",
      "source": [
        " car.head()"
      ],
      "metadata": {
        "colab": {
          "base_uri": "https://localhost:8080/",
          "height": 206
        },
        "id": "LtkuS20GCI2h",
        "outputId": "a66da553-83ef-4203-a95c-ae3a5bb8561c"
      },
      "execution_count": null,
      "outputs": [
        {
          "output_type": "execute_result",
          "data": {
            "text/plain": [
              "                                     name   company  year          Price  \\\n",
              "0    Hyundai Santro Xing XO eRLX Euro III   Hyundai  2007         80,000   \n",
              "1                 Mahindra Jeep CL550 MDI  Mahindra  2006       4,25,000   \n",
              "2              Maruti Suzuki Alto 800 Vxi    Maruti  2018  Ask For Price   \n",
              "3  Hyundai Grand i10 Magna 1.2 Kappa VTVT   Hyundai  2014       3,25,000   \n",
              "4        Ford EcoSport Titanium 1.5L TDCi      Ford  2014       5,75,000   \n",
              "\n",
              "   kms_driven fuel_type  \n",
              "0  45,000 kms    Petrol  \n",
              "1      40 kms    Diesel  \n",
              "2  22,000 kms    Petrol  \n",
              "3  28,000 kms    Petrol  \n",
              "4  36,000 kms    Diesel  "
            ],
            "text/html": [
              "\n",
              "  <div id=\"df-0c6cf8f4-1c44-4095-a10d-0168e4f9e344\">\n",
              "    <div class=\"colab-df-container\">\n",
              "      <div>\n",
              "<style scoped>\n",
              "    .dataframe tbody tr th:only-of-type {\n",
              "        vertical-align: middle;\n",
              "    }\n",
              "\n",
              "    .dataframe tbody tr th {\n",
              "        vertical-align: top;\n",
              "    }\n",
              "\n",
              "    .dataframe thead th {\n",
              "        text-align: right;\n",
              "    }\n",
              "</style>\n",
              "<table border=\"1\" class=\"dataframe\">\n",
              "  <thead>\n",
              "    <tr style=\"text-align: right;\">\n",
              "      <th></th>\n",
              "      <th>name</th>\n",
              "      <th>company</th>\n",
              "      <th>year</th>\n",
              "      <th>Price</th>\n",
              "      <th>kms_driven</th>\n",
              "      <th>fuel_type</th>\n",
              "    </tr>\n",
              "  </thead>\n",
              "  <tbody>\n",
              "    <tr>\n",
              "      <th>0</th>\n",
              "      <td>Hyundai Santro Xing XO eRLX Euro III</td>\n",
              "      <td>Hyundai</td>\n",
              "      <td>2007</td>\n",
              "      <td>80,000</td>\n",
              "      <td>45,000 kms</td>\n",
              "      <td>Petrol</td>\n",
              "    </tr>\n",
              "    <tr>\n",
              "      <th>1</th>\n",
              "      <td>Mahindra Jeep CL550 MDI</td>\n",
              "      <td>Mahindra</td>\n",
              "      <td>2006</td>\n",
              "      <td>4,25,000</td>\n",
              "      <td>40 kms</td>\n",
              "      <td>Diesel</td>\n",
              "    </tr>\n",
              "    <tr>\n",
              "      <th>2</th>\n",
              "      <td>Maruti Suzuki Alto 800 Vxi</td>\n",
              "      <td>Maruti</td>\n",
              "      <td>2018</td>\n",
              "      <td>Ask For Price</td>\n",
              "      <td>22,000 kms</td>\n",
              "      <td>Petrol</td>\n",
              "    </tr>\n",
              "    <tr>\n",
              "      <th>3</th>\n",
              "      <td>Hyundai Grand i10 Magna 1.2 Kappa VTVT</td>\n",
              "      <td>Hyundai</td>\n",
              "      <td>2014</td>\n",
              "      <td>3,25,000</td>\n",
              "      <td>28,000 kms</td>\n",
              "      <td>Petrol</td>\n",
              "    </tr>\n",
              "    <tr>\n",
              "      <th>4</th>\n",
              "      <td>Ford EcoSport Titanium 1.5L TDCi</td>\n",
              "      <td>Ford</td>\n",
              "      <td>2014</td>\n",
              "      <td>5,75,000</td>\n",
              "      <td>36,000 kms</td>\n",
              "      <td>Diesel</td>\n",
              "    </tr>\n",
              "  </tbody>\n",
              "</table>\n",
              "</div>\n",
              "      <button class=\"colab-df-convert\" onclick=\"convertToInteractive('df-0c6cf8f4-1c44-4095-a10d-0168e4f9e344')\"\n",
              "              title=\"Convert this dataframe to an interactive table.\"\n",
              "              style=\"display:none;\">\n",
              "        \n",
              "  <svg xmlns=\"http://www.w3.org/2000/svg\" height=\"24px\"viewBox=\"0 0 24 24\"\n",
              "       width=\"24px\">\n",
              "    <path d=\"M0 0h24v24H0V0z\" fill=\"none\"/>\n",
              "    <path d=\"M18.56 5.44l.94 2.06.94-2.06 2.06-.94-2.06-.94-.94-2.06-.94 2.06-2.06.94zm-11 1L8.5 8.5l.94-2.06 2.06-.94-2.06-.94L8.5 2.5l-.94 2.06-2.06.94zm10 10l.94 2.06.94-2.06 2.06-.94-2.06-.94-.94-2.06-.94 2.06-2.06.94z\"/><path d=\"M17.41 7.96l-1.37-1.37c-.4-.4-.92-.59-1.43-.59-.52 0-1.04.2-1.43.59L10.3 9.45l-7.72 7.72c-.78.78-.78 2.05 0 2.83L4 21.41c.39.39.9.59 1.41.59.51 0 1.02-.2 1.41-.59l7.78-7.78 2.81-2.81c.8-.78.8-2.07 0-2.86zM5.41 20L4 18.59l7.72-7.72 1.47 1.35L5.41 20z\"/>\n",
              "  </svg>\n",
              "      </button>\n",
              "      \n",
              "  <style>\n",
              "    .colab-df-container {\n",
              "      display:flex;\n",
              "      flex-wrap:wrap;\n",
              "      gap: 12px;\n",
              "    }\n",
              "\n",
              "    .colab-df-convert {\n",
              "      background-color: #E8F0FE;\n",
              "      border: none;\n",
              "      border-radius: 50%;\n",
              "      cursor: pointer;\n",
              "      display: none;\n",
              "      fill: #1967D2;\n",
              "      height: 32px;\n",
              "      padding: 0 0 0 0;\n",
              "      width: 32px;\n",
              "    }\n",
              "\n",
              "    .colab-df-convert:hover {\n",
              "      background-color: #E2EBFA;\n",
              "      box-shadow: 0px 1px 2px rgba(60, 64, 67, 0.3), 0px 1px 3px 1px rgba(60, 64, 67, 0.15);\n",
              "      fill: #174EA6;\n",
              "    }\n",
              "\n",
              "    [theme=dark] .colab-df-convert {\n",
              "      background-color: #3B4455;\n",
              "      fill: #D2E3FC;\n",
              "    }\n",
              "\n",
              "    [theme=dark] .colab-df-convert:hover {\n",
              "      background-color: #434B5C;\n",
              "      box-shadow: 0px 1px 3px 1px rgba(0, 0, 0, 0.15);\n",
              "      filter: drop-shadow(0px 1px 2px rgba(0, 0, 0, 0.3));\n",
              "      fill: #FFFFFF;\n",
              "    }\n",
              "  </style>\n",
              "\n",
              "      <script>\n",
              "        const buttonEl =\n",
              "          document.querySelector('#df-0c6cf8f4-1c44-4095-a10d-0168e4f9e344 button.colab-df-convert');\n",
              "        buttonEl.style.display =\n",
              "          google.colab.kernel.accessAllowed ? 'block' : 'none';\n",
              "\n",
              "        async function convertToInteractive(key) {\n",
              "          const element = document.querySelector('#df-0c6cf8f4-1c44-4095-a10d-0168e4f9e344');\n",
              "          const dataTable =\n",
              "            await google.colab.kernel.invokeFunction('convertToInteractive',\n",
              "                                                     [key], {});\n",
              "          if (!dataTable) return;\n",
              "\n",
              "          const docLinkHtml = 'Like what you see? Visit the ' +\n",
              "            '<a target=\"_blank\" href=https://colab.research.google.com/notebooks/data_table.ipynb>data table notebook</a>'\n",
              "            + ' to learn more about interactive tables.';\n",
              "          element.innerHTML = '';\n",
              "          dataTable['output_type'] = 'display_data';\n",
              "          await google.colab.output.renderOutput(dataTable, element);\n",
              "          const docLink = document.createElement('div');\n",
              "          docLink.innerHTML = docLinkHtml;\n",
              "          element.appendChild(docLink);\n",
              "        }\n",
              "      </script>\n",
              "    </div>\n",
              "  </div>\n",
              "  "
            ]
          },
          "metadata": {},
          "execution_count": 3
        }
      ]
    },
    {
      "cell_type": "code",
      "source": [
        "car.shape"
      ],
      "metadata": {
        "colab": {
          "base_uri": "https://localhost:8080/"
        },
        "id": "0lLwti2HJvPl",
        "outputId": "5894e5e2-22b2-435d-93ec-70cf1e11e1aa"
      },
      "execution_count": null,
      "outputs": [
        {
          "output_type": "execute_result",
          "data": {
            "text/plain": [
              "(892, 6)"
            ]
          },
          "metadata": {},
          "execution_count": 4
        }
      ]
    },
    {
      "cell_type": "code",
      "source": [
        "car.info()"
      ],
      "metadata": {
        "colab": {
          "base_uri": "https://localhost:8080/"
        },
        "id": "NE9Ey2ewJ71l",
        "outputId": "91634898-d8b7-45f9-9cfb-6f17b20029c3"
      },
      "execution_count": null,
      "outputs": [
        {
          "output_type": "stream",
          "name": "stdout",
          "text": [
            "<class 'pandas.core.frame.DataFrame'>\n",
            "RangeIndex: 892 entries, 0 to 891\n",
            "Data columns (total 6 columns):\n",
            " #   Column      Non-Null Count  Dtype \n",
            "---  ------      --------------  ----- \n",
            " 0   name        892 non-null    object\n",
            " 1   company     892 non-null    object\n",
            " 2   year        892 non-null    object\n",
            " 3   Price       892 non-null    object\n",
            " 4   kms_driven  840 non-null    object\n",
            " 5   fuel_type   837 non-null    object\n",
            "dtypes: object(6)\n",
            "memory usage: 41.9+ KB\n"
          ]
        }
      ]
    },
    {
      "cell_type": "code",
      "source": [
        "car['year'].unique()"
      ],
      "metadata": {
        "colab": {
          "base_uri": "https://localhost:8080/"
        },
        "id": "j0ZLmXXkKD7a",
        "outputId": "9d2e0d4a-2282-48ee-bfa1-2c071cede948"
      },
      "execution_count": null,
      "outputs": [
        {
          "output_type": "execute_result",
          "data": {
            "text/plain": [
              "array(['2007', '2006', '2018', '2014', '2015', '2012', '2013', '2016',\n",
              "       '2010', '2017', '2008', '2011', '2019', '2009', '2005', '2000',\n",
              "       '...', '150k', 'TOUR', '2003', 'r 15', '2004', 'Zest', '/-Rs',\n",
              "       'sale', '1995', 'ara)', '2002', 'SELL', '2001', 'tion', 'odel',\n",
              "       '2 bs', 'arry', 'Eon', 'o...', 'ture', 'emi', 'car', 'able', 'no.',\n",
              "       'd...', 'SALE', 'digo', 'sell', 'd Ex', 'n...', 'e...', 'D...',\n",
              "       ', Ac', 'go .', 'k...', 'o c4', 'zire', 'cent', 'Sumo', 'cab',\n",
              "       't xe', 'EV2', 'r...', 'zest'], dtype=object)"
            ]
          },
          "metadata": {},
          "execution_count": 6
        }
      ]
    },
    {
      "cell_type": "code",
      "source": [
        "car['Price'].unique()"
      ],
      "metadata": {
        "colab": {
          "base_uri": "https://localhost:8080/"
        },
        "id": "NbWfhFp0Ksfy",
        "outputId": "bdc97184-4721-4b7a-f0a9-c48b5031ea5c"
      },
      "execution_count": null,
      "outputs": [
        {
          "output_type": "execute_result",
          "data": {
            "text/plain": [
              "array(['80,000', '4,25,000', 'Ask For Price', '3,25,000', '5,75,000',\n",
              "       '1,75,000', '1,90,000', '8,30,000', '2,50,000', '1,82,000',\n",
              "       '3,15,000', '4,15,000', '3,20,000', '10,00,000', '5,00,000',\n",
              "       '3,50,000', '1,60,000', '3,10,000', '75,000', '1,00,000',\n",
              "       '2,90,000', '95,000', '1,80,000', '3,85,000', '1,05,000',\n",
              "       '6,50,000', '6,89,999', '4,48,000', '5,49,000', '5,01,000',\n",
              "       '4,89,999', '2,80,000', '3,49,999', '2,84,999', '3,45,000',\n",
              "       '4,99,999', '2,35,000', '2,49,999', '14,75,000', '3,95,000',\n",
              "       '2,20,000', '1,70,000', '85,000', '2,00,000', '5,70,000',\n",
              "       '1,10,000', '4,48,999', '18,91,111', '1,59,500', '3,44,999',\n",
              "       '4,49,999', '8,65,000', '6,99,000', '3,75,000', '2,24,999',\n",
              "       '12,00,000', '1,95,000', '3,51,000', '2,40,000', '90,000',\n",
              "       '1,55,000', '6,00,000', '1,89,500', '2,10,000', '3,90,000',\n",
              "       '1,35,000', '16,00,000', '7,01,000', '2,65,000', '5,25,000',\n",
              "       '3,72,000', '6,35,000', '5,50,000', '4,85,000', '3,29,500',\n",
              "       '2,51,111', '5,69,999', '69,999', '2,99,999', '3,99,999',\n",
              "       '4,50,000', '2,70,000', '1,58,400', '1,79,000', '1,25,000',\n",
              "       '2,99,000', '1,50,000', '2,75,000', '2,85,000', '3,40,000',\n",
              "       '70,000', '2,89,999', '8,49,999', '7,49,999', '2,74,999',\n",
              "       '9,84,999', '5,99,999', '2,44,999', '4,74,999', '2,45,000',\n",
              "       '1,69,500', '3,70,000', '1,68,000', '1,45,000', '98,500',\n",
              "       '2,09,000', '1,85,000', '9,00,000', '6,99,999', '1,99,999',\n",
              "       '5,44,999', '1,99,000', '5,40,000', '49,000', '7,00,000', '55,000',\n",
              "       '8,95,000', '3,55,000', '5,65,000', '3,65,000', '40,000',\n",
              "       '4,00,000', '3,30,000', '5,80,000', '3,79,000', '2,19,000',\n",
              "       '5,19,000', '7,30,000', '20,00,000', '21,00,000', '14,00,000',\n",
              "       '3,11,000', '8,55,000', '5,35,000', '1,78,000', '3,00,000',\n",
              "       '2,55,000', '5,49,999', '3,80,000', '57,000', '4,10,000',\n",
              "       '2,25,000', '1,20,000', '59,000', '5,99,000', '6,75,000', '72,500',\n",
              "       '6,10,000', '2,30,000', '5,20,000', '5,24,999', '4,24,999',\n",
              "       '6,44,999', '5,84,999', '7,99,999', '4,44,999', '6,49,999',\n",
              "       '9,44,999', '5,74,999', '3,74,999', '1,30,000', '4,01,000',\n",
              "       '13,50,000', '1,74,999', '2,39,999', '99,999', '3,24,999',\n",
              "       '10,74,999', '11,30,000', '1,49,000', '7,70,000', '30,000',\n",
              "       '3,35,000', '3,99,000', '65,000', '1,69,999', '1,65,000',\n",
              "       '5,60,000', '9,50,000', '7,15,000', '45,000', '9,40,000',\n",
              "       '1,55,555', '15,00,000', '4,95,000', '8,00,000', '12,99,000',\n",
              "       '5,30,000', '14,99,000', '32,000', '4,05,000', '7,60,000',\n",
              "       '7,50,000', '4,19,000', '1,40,000', '15,40,000', '1,23,000',\n",
              "       '4,98,000', '4,80,000', '4,88,000', '15,25,000', '5,48,900',\n",
              "       '7,25,000', '99,000', '52,000', '28,00,000', '4,99,000',\n",
              "       '3,81,000', '2,78,000', '6,90,000', '2,60,000', '90,001',\n",
              "       '1,15,000', '15,99,000', '1,59,000', '51,999', '2,15,000',\n",
              "       '35,000', '11,50,000', '2,69,000', '60,000', '4,30,000',\n",
              "       '85,00,003', '4,01,919', '4,90,000', '4,24,000', '2,05,000',\n",
              "       '5,49,900', '3,71,500', '4,35,000', '1,89,700', '3,89,700',\n",
              "       '3,60,000', '2,95,000', '1,14,990', '10,65,000', '4,70,000',\n",
              "       '48,000', '1,88,000', '4,65,000', '1,79,999', '21,90,000',\n",
              "       '23,90,000', '10,75,000', '4,75,000', '10,25,000', '6,15,000',\n",
              "       '19,00,000', '14,90,000', '15,10,000', '18,50,000', '7,90,000',\n",
              "       '17,25,000', '12,25,000', '68,000', '9,70,000', '31,00,000',\n",
              "       '8,99,000', '88,000', '53,000', '5,68,500', '71,000', '5,90,000',\n",
              "       '7,95,000', '42,000', '1,89,000', '1,62,000', '35,999',\n",
              "       '29,00,000', '39,999', '50,500', '5,10,000', '8,60,000',\n",
              "       '5,00,001'], dtype=object)"
            ]
          },
          "metadata": {},
          "execution_count": 7
        }
      ]
    },
    {
      "cell_type": "code",
      "source": [
        "car['kms_driven'].unique()"
      ],
      "metadata": {
        "colab": {
          "base_uri": "https://localhost:8080/"
        },
        "id": "cxd5r0wIKzNE",
        "outputId": "9a9d7e73-1f39-4d58-a0f2-ea9b6a4489e1"
      },
      "execution_count": null,
      "outputs": [
        {
          "output_type": "execute_result",
          "data": {
            "text/plain": [
              "array(['45,000 kms', '40 kms', '22,000 kms', '28,000 kms', '36,000 kms',\n",
              "       '59,000 kms', '41,000 kms', '25,000 kms', '24,530 kms',\n",
              "       '60,000 kms', '30,000 kms', '32,000 kms', '48,660 kms',\n",
              "       '4,000 kms', '16,934 kms', '43,000 kms', '35,550 kms',\n",
              "       '39,522 kms', '39,000 kms', '55,000 kms', '72,000 kms',\n",
              "       '15,975 kms', '70,000 kms', '23,452 kms', '35,522 kms',\n",
              "       '48,508 kms', '15,487 kms', '82,000 kms', '20,000 kms',\n",
              "       '68,000 kms', '38,000 kms', '27,000 kms', '33,000 kms',\n",
              "       '46,000 kms', '16,000 kms', '47,000 kms', '35,000 kms',\n",
              "       '30,874 kms', '15,000 kms', '29,685 kms', '1,30,000 kms',\n",
              "       '19,000 kms', nan, '54,000 kms', '13,000 kms', '38,200 kms',\n",
              "       '50,000 kms', '13,500 kms', '3,600 kms', '45,863 kms',\n",
              "       '60,500 kms', '12,500 kms', '18,000 kms', '13,349 kms',\n",
              "       '29,000 kms', '44,000 kms', '42,000 kms', '14,000 kms',\n",
              "       '49,000 kms', '36,200 kms', '51,000 kms', '1,04,000 kms',\n",
              "       '33,333 kms', '33,600 kms', '5,600 kms', '7,500 kms', '26,000 kms',\n",
              "       '24,330 kms', '65,480 kms', '28,028 kms', '2,00,000 kms',\n",
              "       '99,000 kms', '2,800 kms', '21,000 kms', '11,000 kms',\n",
              "       '66,000 kms', '3,000 kms', '7,000 kms', '38,500 kms', '37,200 kms',\n",
              "       '43,200 kms', '24,800 kms', '45,872 kms', '40,000 kms',\n",
              "       '11,400 kms', '97,200 kms', '52,000 kms', '31,000 kms',\n",
              "       '1,75,430 kms', '37,000 kms', '65,000 kms', '3,350 kms',\n",
              "       '75,000 kms', '62,000 kms', '73,000 kms', '2,200 kms',\n",
              "       '54,870 kms', '34,580 kms', '97,000 kms', '60 kms', '80,200 kms',\n",
              "       '3,200 kms', '0,000 kms', '5,000 kms', '588 kms', '71,200 kms',\n",
              "       '1,75,400 kms', '9,300 kms', '56,758 kms', '10,000 kms',\n",
              "       '56,450 kms', '56,000 kms', '32,700 kms', '9,000 kms', '73 kms',\n",
              "       '1,60,000 kms', '84,000 kms', '58,559 kms', '57,000 kms',\n",
              "       '1,70,000 kms', '80,000 kms', '6,821 kms', '23,000 kms',\n",
              "       '34,000 kms', '1,800 kms', '4,00,000 kms', '48,000 kms',\n",
              "       '90,000 kms', '12,000 kms', '69,900 kms', '1,66,000 kms',\n",
              "       '122 kms', '0 kms', '24,000 kms', '36,469 kms', '7,800 kms',\n",
              "       '24,695 kms', '15,141 kms', '59,910 kms', '1,00,000 kms',\n",
              "       '4,500 kms', '1,29,000 kms', '300 kms', '1,31,000 kms',\n",
              "       '1,11,111 kms', '59,466 kms', '25,500 kms', '44,005 kms',\n",
              "       '2,110 kms', '43,222 kms', '1,00,200 kms', '65 kms',\n",
              "       '1,40,000 kms', '1,03,553 kms', '58,000 kms', '1,20,000 kms',\n",
              "       '49,800 kms', '100 kms', '81,876 kms', '6,020 kms', '55,700 kms',\n",
              "       '18,500 kms', '1,80,000 kms', '53,000 kms', '35,500 kms',\n",
              "       '22,134 kms', '1,000 kms', '8,500 kms', '87,000 kms', '6,000 kms',\n",
              "       '15,574 kms', '8,000 kms', '55,800 kms', '56,400 kms',\n",
              "       '72,160 kms', '11,500 kms', '1,33,000 kms', '2,000 kms',\n",
              "       '88,000 kms', '65,422 kms', '1,17,000 kms', '1,50,000 kms',\n",
              "       '10,750 kms', '6,800 kms', '5 kms', '9,800 kms', '57,923 kms',\n",
              "       '30,201 kms', '6,200 kms', '37,518 kms', '24,652 kms', '383 kms',\n",
              "       '95,000 kms', '3,528 kms', '52,500 kms', '47,900 kms',\n",
              "       '52,800 kms', '1,95,000 kms', '48,008 kms', '48,247 kms',\n",
              "       '9,400 kms', '64,000 kms', '2,137 kms', '10,544 kms', '49,500 kms',\n",
              "       '1,47,000 kms', '90,001 kms', '48,006 kms', '74,000 kms',\n",
              "       '85,000 kms', '29,500 kms', '39,700 kms', '67,000 kms',\n",
              "       '19,336 kms', '60,105 kms', '45,933 kms', '1,02,563 kms',\n",
              "       '28,600 kms', '41,800 kms', '1,16,000 kms', '42,590 kms',\n",
              "       '7,400 kms', '54,500 kms', '76,000 kms', '00 kms', '11,523 kms',\n",
              "       '38,600 kms', '95,500 kms', '37,458 kms', '85,960 kms',\n",
              "       '12,516 kms', '30,600 kms', '2,550 kms', '62,500 kms',\n",
              "       '69,000 kms', '28,400 kms', '68,485 kms', '3,500 kms',\n",
              "       '85,455 kms', '63,000 kms', '1,600 kms', '77,000 kms',\n",
              "       '26,500 kms', '2,875 kms', '13,900 kms', '1,500 kms', '2,450 kms',\n",
              "       '1,625 kms', '33,400 kms', '60,123 kms', '38,900 kms',\n",
              "       '1,37,495 kms', '91,200 kms', '1,46,000 kms', '1,00,800 kms',\n",
              "       '2,100 kms', '2,500 kms', '1,32,000 kms', 'Petrol'], dtype=object)"
            ]
          },
          "metadata": {},
          "execution_count": 8
        }
      ]
    },
    {
      "cell_type": "code",
      "source": [
        "car['fuel_type'].unique()"
      ],
      "metadata": {
        "colab": {
          "base_uri": "https://localhost:8080/"
        },
        "id": "WkPM6lnAL_qb",
        "outputId": "f27f5de9-e00f-4ae0-9986-4593bbb32a53"
      },
      "execution_count": null,
      "outputs": [
        {
          "output_type": "execute_result",
          "data": {
            "text/plain": [
              "array(['Petrol', 'Diesel', nan, 'LPG'], dtype=object)"
            ]
          },
          "metadata": {},
          "execution_count": 9
        }
      ]
    },
    {
      "cell_type": "markdown",
      "source": [
        "## **CLEANING OF DATA**"
      ],
      "metadata": {
        "id": "k4NeUifwMIL3"
      }
    },
    {
      "cell_type": "code",
      "source": [
        "backup=car.copy()"
      ],
      "metadata": {
        "id": "Ze3BFcCrMVDc"
      },
      "execution_count": null,
      "outputs": []
    },
    {
      "cell_type": "code",
      "source": [
        "car=car[car['year'].str.isnumeric()]"
      ],
      "metadata": {
        "id": "Jn_m9uTiMipq"
      },
      "execution_count": null,
      "outputs": []
    },
    {
      "cell_type": "code",
      "source": [
        "car['year']=car['year'].astype(int)"
      ],
      "metadata": {
        "id": "pZmfYsSqMrVw"
      },
      "execution_count": null,
      "outputs": []
    },
    {
      "cell_type": "code",
      "source": [
        "car=car[car['Price']!=\"Ask For Price\"]"
      ],
      "metadata": {
        "id": "Xzieff7zNSGi"
      },
      "execution_count": null,
      "outputs": []
    },
    {
      "cell_type": "code",
      "source": [
        "car['Price']=car['Price'].str.replace(',','').astype(int)"
      ],
      "metadata": {
        "id": "Hs5sjwoDNzNY"
      },
      "execution_count": null,
      "outputs": []
    },
    {
      "cell_type": "code",
      "source": [
        "car.info"
      ],
      "metadata": {
        "colab": {
          "base_uri": "https://localhost:8080/"
        },
        "id": "d8AUvTDCOOBd",
        "outputId": "19fc7737-7097-49c7-c59b-d2d7007652a5"
      },
      "execution_count": null,
      "outputs": [
        {
          "output_type": "execute_result",
          "data": {
            "text/plain": [
              "<bound method DataFrame.info of                                        name    company  year   Price  \\\n",
              "0      Hyundai Santro Xing XO eRLX Euro III    Hyundai  2007   80000   \n",
              "1                   Mahindra Jeep CL550 MDI   Mahindra  2006  425000   \n",
              "3    Hyundai Grand i10 Magna 1.2 Kappa VTVT    Hyundai  2014  325000   \n",
              "4          Ford EcoSport Titanium 1.5L TDCi       Ford  2014  575000   \n",
              "6                                 Ford Figo       Ford  2012  175000   \n",
              "..                                      ...        ...   ...     ...   \n",
              "886                    Toyota Corolla Altis     Toyota  2009  300000   \n",
              "888                     Tata Zest XM Diesel       Tata  2018  260000   \n",
              "889                      Mahindra Quanto C8   Mahindra  2013  390000   \n",
              "890                Honda Amaze 1.2 E i VTEC      Honda  2014  180000   \n",
              "891               Chevrolet Sail 1.2 LT ABS  Chevrolet  2014  160000   \n",
              "\n",
              "       kms_driven fuel_type  \n",
              "0      45,000 kms    Petrol  \n",
              "1          40 kms    Diesel  \n",
              "3      28,000 kms    Petrol  \n",
              "4      36,000 kms    Diesel  \n",
              "6      41,000 kms    Diesel  \n",
              "..            ...       ...  \n",
              "886  1,32,000 kms    Petrol  \n",
              "888    27,000 kms    Diesel  \n",
              "889    40,000 kms    Diesel  \n",
              "890        Petrol       NaN  \n",
              "891        Petrol       NaN  \n",
              "\n",
              "[819 rows x 6 columns]>"
            ]
          },
          "metadata": {},
          "execution_count": 15
        }
      ]
    },
    {
      "cell_type": "code",
      "source": [
        "car['kms_driven']=car['kms_driven'].str.split(' ').str.get(0).str.replace(',','')"
      ],
      "metadata": {
        "id": "1SGNLCObSxDz"
      },
      "execution_count": null,
      "outputs": []
    },
    {
      "cell_type": "code",
      "source": [
        "car=car[car['kms_driven'].str.isnumeric()]"
      ],
      "metadata": {
        "id": "8JbsBFriTbN3"
      },
      "execution_count": null,
      "outputs": []
    },
    {
      "cell_type": "code",
      "source": [
        "car['kms_driven']=car['kms_driven'].astype(int)"
      ],
      "metadata": {
        "colab": {
          "base_uri": "https://localhost:8080/"
        },
        "id": "Nb01iNOCTujm",
        "outputId": "c62dcd4e-276a-437d-cdc6-767a206bb156"
      },
      "execution_count": null,
      "outputs": [
        {
          "output_type": "stream",
          "name": "stderr",
          "text": [
            "<ipython-input-18-de01a420cef2>:1: SettingWithCopyWarning: \n",
            "A value is trying to be set on a copy of a slice from a DataFrame.\n",
            "Try using .loc[row_indexer,col_indexer] = value instead\n",
            "\n",
            "See the caveats in the documentation: https://pandas.pydata.org/pandas-docs/stable/user_guide/indexing.html#returning-a-view-versus-a-copy\n",
            "  car['kms_driven']=car['kms_driven'].astype(int)\n"
          ]
        }
      ]
    },
    {
      "cell_type": "code",
      "source": [
        "car=car[~car['fuel_type'].isna()]"
      ],
      "metadata": {
        "id": "DevpocL0T_9m"
      },
      "execution_count": null,
      "outputs": []
    },
    {
      "cell_type": "code",
      "source": [
        "car['name']=car['name'].str.split(' ').str.slice(0,3).str.join(' ')"
      ],
      "metadata": {
        "id": "LURkU44BYPNo"
      },
      "execution_count": null,
      "outputs": []
    },
    {
      "cell_type": "code",
      "source": [
        "car=car.reset_index(drop=True)"
      ],
      "metadata": {
        "id": "cUkqXshqZJzQ"
      },
      "execution_count": null,
      "outputs": []
    },
    {
      "cell_type": "code",
      "source": [
        "car.info()\n"
      ],
      "metadata": {
        "colab": {
          "base_uri": "https://localhost:8080/"
        },
        "id": "Nrlp1MBDZi7S",
        "outputId": "4f55a005-e2d7-4a95-e370-c08f09be2b71"
      },
      "execution_count": null,
      "outputs": [
        {
          "output_type": "stream",
          "name": "stdout",
          "text": [
            "<class 'pandas.core.frame.DataFrame'>\n",
            "RangeIndex: 816 entries, 0 to 815\n",
            "Data columns (total 6 columns):\n",
            " #   Column      Non-Null Count  Dtype \n",
            "---  ------      --------------  ----- \n",
            " 0   name        816 non-null    object\n",
            " 1   company     816 non-null    object\n",
            " 2   year        816 non-null    int64 \n",
            " 3   Price       816 non-null    int64 \n",
            " 4   kms_driven  816 non-null    int64 \n",
            " 5   fuel_type   816 non-null    object\n",
            "dtypes: int64(3), object(3)\n",
            "memory usage: 38.4+ KB\n"
          ]
        }
      ]
    },
    {
      "cell_type": "code",
      "source": [
        "car.describe()"
      ],
      "metadata": {
        "colab": {
          "base_uri": "https://localhost:8080/",
          "height": 300
        },
        "id": "cIFbnGylaJHh",
        "outputId": "3516e2e9-bd2e-45b7-fd19-05615c091d8a"
      },
      "execution_count": null,
      "outputs": [
        {
          "output_type": "execute_result",
          "data": {
            "text/plain": [
              "              year         Price     kms_driven\n",
              "count   816.000000  8.160000e+02     816.000000\n",
              "mean   2012.444853  4.117176e+05   46275.531863\n",
              "std       4.002992  4.751844e+05   34297.428044\n",
              "min    1995.000000  3.000000e+04       0.000000\n",
              "25%    2010.000000  1.750000e+05   27000.000000\n",
              "50%    2013.000000  2.999990e+05   41000.000000\n",
              "75%    2015.000000  4.912500e+05   56818.500000\n",
              "max    2019.000000  8.500003e+06  400000.000000"
            ],
            "text/html": [
              "\n",
              "  <div id=\"df-976a7a02-0966-4b3b-a676-65a37f1429b4\">\n",
              "    <div class=\"colab-df-container\">\n",
              "      <div>\n",
              "<style scoped>\n",
              "    .dataframe tbody tr th:only-of-type {\n",
              "        vertical-align: middle;\n",
              "    }\n",
              "\n",
              "    .dataframe tbody tr th {\n",
              "        vertical-align: top;\n",
              "    }\n",
              "\n",
              "    .dataframe thead th {\n",
              "        text-align: right;\n",
              "    }\n",
              "</style>\n",
              "<table border=\"1\" class=\"dataframe\">\n",
              "  <thead>\n",
              "    <tr style=\"text-align: right;\">\n",
              "      <th></th>\n",
              "      <th>year</th>\n",
              "      <th>Price</th>\n",
              "      <th>kms_driven</th>\n",
              "    </tr>\n",
              "  </thead>\n",
              "  <tbody>\n",
              "    <tr>\n",
              "      <th>count</th>\n",
              "      <td>816.000000</td>\n",
              "      <td>8.160000e+02</td>\n",
              "      <td>816.000000</td>\n",
              "    </tr>\n",
              "    <tr>\n",
              "      <th>mean</th>\n",
              "      <td>2012.444853</td>\n",
              "      <td>4.117176e+05</td>\n",
              "      <td>46275.531863</td>\n",
              "    </tr>\n",
              "    <tr>\n",
              "      <th>std</th>\n",
              "      <td>4.002992</td>\n",
              "      <td>4.751844e+05</td>\n",
              "      <td>34297.428044</td>\n",
              "    </tr>\n",
              "    <tr>\n",
              "      <th>min</th>\n",
              "      <td>1995.000000</td>\n",
              "      <td>3.000000e+04</td>\n",
              "      <td>0.000000</td>\n",
              "    </tr>\n",
              "    <tr>\n",
              "      <th>25%</th>\n",
              "      <td>2010.000000</td>\n",
              "      <td>1.750000e+05</td>\n",
              "      <td>27000.000000</td>\n",
              "    </tr>\n",
              "    <tr>\n",
              "      <th>50%</th>\n",
              "      <td>2013.000000</td>\n",
              "      <td>2.999990e+05</td>\n",
              "      <td>41000.000000</td>\n",
              "    </tr>\n",
              "    <tr>\n",
              "      <th>75%</th>\n",
              "      <td>2015.000000</td>\n",
              "      <td>4.912500e+05</td>\n",
              "      <td>56818.500000</td>\n",
              "    </tr>\n",
              "    <tr>\n",
              "      <th>max</th>\n",
              "      <td>2019.000000</td>\n",
              "      <td>8.500003e+06</td>\n",
              "      <td>400000.000000</td>\n",
              "    </tr>\n",
              "  </tbody>\n",
              "</table>\n",
              "</div>\n",
              "      <button class=\"colab-df-convert\" onclick=\"convertToInteractive('df-976a7a02-0966-4b3b-a676-65a37f1429b4')\"\n",
              "              title=\"Convert this dataframe to an interactive table.\"\n",
              "              style=\"display:none;\">\n",
              "        \n",
              "  <svg xmlns=\"http://www.w3.org/2000/svg\" height=\"24px\"viewBox=\"0 0 24 24\"\n",
              "       width=\"24px\">\n",
              "    <path d=\"M0 0h24v24H0V0z\" fill=\"none\"/>\n",
              "    <path d=\"M18.56 5.44l.94 2.06.94-2.06 2.06-.94-2.06-.94-.94-2.06-.94 2.06-2.06.94zm-11 1L8.5 8.5l.94-2.06 2.06-.94-2.06-.94L8.5 2.5l-.94 2.06-2.06.94zm10 10l.94 2.06.94-2.06 2.06-.94-2.06-.94-.94-2.06-.94 2.06-2.06.94z\"/><path d=\"M17.41 7.96l-1.37-1.37c-.4-.4-.92-.59-1.43-.59-.52 0-1.04.2-1.43.59L10.3 9.45l-7.72 7.72c-.78.78-.78 2.05 0 2.83L4 21.41c.39.39.9.59 1.41.59.51 0 1.02-.2 1.41-.59l7.78-7.78 2.81-2.81c.8-.78.8-2.07 0-2.86zM5.41 20L4 18.59l7.72-7.72 1.47 1.35L5.41 20z\"/>\n",
              "  </svg>\n",
              "      </button>\n",
              "      \n",
              "  <style>\n",
              "    .colab-df-container {\n",
              "      display:flex;\n",
              "      flex-wrap:wrap;\n",
              "      gap: 12px;\n",
              "    }\n",
              "\n",
              "    .colab-df-convert {\n",
              "      background-color: #E8F0FE;\n",
              "      border: none;\n",
              "      border-radius: 50%;\n",
              "      cursor: pointer;\n",
              "      display: none;\n",
              "      fill: #1967D2;\n",
              "      height: 32px;\n",
              "      padding: 0 0 0 0;\n",
              "      width: 32px;\n",
              "    }\n",
              "\n",
              "    .colab-df-convert:hover {\n",
              "      background-color: #E2EBFA;\n",
              "      box-shadow: 0px 1px 2px rgba(60, 64, 67, 0.3), 0px 1px 3px 1px rgba(60, 64, 67, 0.15);\n",
              "      fill: #174EA6;\n",
              "    }\n",
              "\n",
              "    [theme=dark] .colab-df-convert {\n",
              "      background-color: #3B4455;\n",
              "      fill: #D2E3FC;\n",
              "    }\n",
              "\n",
              "    [theme=dark] .colab-df-convert:hover {\n",
              "      background-color: #434B5C;\n",
              "      box-shadow: 0px 1px 3px 1px rgba(0, 0, 0, 0.15);\n",
              "      filter: drop-shadow(0px 1px 2px rgba(0, 0, 0, 0.3));\n",
              "      fill: #FFFFFF;\n",
              "    }\n",
              "  </style>\n",
              "\n",
              "      <script>\n",
              "        const buttonEl =\n",
              "          document.querySelector('#df-976a7a02-0966-4b3b-a676-65a37f1429b4 button.colab-df-convert');\n",
              "        buttonEl.style.display =\n",
              "          google.colab.kernel.accessAllowed ? 'block' : 'none';\n",
              "\n",
              "        async function convertToInteractive(key) {\n",
              "          const element = document.querySelector('#df-976a7a02-0966-4b3b-a676-65a37f1429b4');\n",
              "          const dataTable =\n",
              "            await google.colab.kernel.invokeFunction('convertToInteractive',\n",
              "                                                     [key], {});\n",
              "          if (!dataTable) return;\n",
              "\n",
              "          const docLinkHtml = 'Like what you see? Visit the ' +\n",
              "            '<a target=\"_blank\" href=https://colab.research.google.com/notebooks/data_table.ipynb>data table notebook</a>'\n",
              "            + ' to learn more about interactive tables.';\n",
              "          element.innerHTML = '';\n",
              "          dataTable['output_type'] = 'display_data';\n",
              "          await google.colab.output.renderOutput(dataTable, element);\n",
              "          const docLink = document.createElement('div');\n",
              "          docLink.innerHTML = docLinkHtml;\n",
              "          element.appendChild(docLink);\n",
              "        }\n",
              "      </script>\n",
              "    </div>\n",
              "  </div>\n",
              "  "
            ]
          },
          "metadata": {},
          "execution_count": 23
        }
      ]
    },
    {
      "cell_type": "code",
      "source": [
        "car=car[car['Price']<6e6].reset_index(drop=True)"
      ],
      "metadata": {
        "id": "8blzzoVmaoEq"
      },
      "execution_count": null,
      "outputs": []
    },
    {
      "cell_type": "code",
      "source": [
        "car"
      ],
      "metadata": {
        "colab": {
          "base_uri": "https://localhost:8080/",
          "height": 423
        },
        "id": "aubdPuFobHgA",
        "outputId": "efb91493-d25f-4cc6-d602-1a481cc7e2d7"
      },
      "execution_count": null,
      "outputs": [
        {
          "output_type": "execute_result",
          "data": {
            "text/plain": [
              "                       name   company  year   Price  kms_driven fuel_type\n",
              "0       Hyundai Santro Xing   Hyundai  2007   80000       45000    Petrol\n",
              "1       Mahindra Jeep CL550  Mahindra  2006  425000          40    Diesel\n",
              "2         Hyundai Grand i10   Hyundai  2014  325000       28000    Petrol\n",
              "3    Ford EcoSport Titanium      Ford  2014  575000       36000    Diesel\n",
              "4                 Ford Figo      Ford  2012  175000       41000    Diesel\n",
              "..                      ...       ...   ...     ...         ...       ...\n",
              "810      Maruti Suzuki Ritz    Maruti  2011  270000       50000    Petrol\n",
              "811          Tata Indica V2      Tata  2009  110000       30000    Diesel\n",
              "812    Toyota Corolla Altis    Toyota  2009  300000      132000    Petrol\n",
              "813            Tata Zest XM      Tata  2018  260000       27000    Diesel\n",
              "814      Mahindra Quanto C8  Mahindra  2013  390000       40000    Diesel\n",
              "\n",
              "[815 rows x 6 columns]"
            ],
            "text/html": [
              "\n",
              "  <div id=\"df-7c73e444-0bc9-4b34-a2e0-b155a196405e\">\n",
              "    <div class=\"colab-df-container\">\n",
              "      <div>\n",
              "<style scoped>\n",
              "    .dataframe tbody tr th:only-of-type {\n",
              "        vertical-align: middle;\n",
              "    }\n",
              "\n",
              "    .dataframe tbody tr th {\n",
              "        vertical-align: top;\n",
              "    }\n",
              "\n",
              "    .dataframe thead th {\n",
              "        text-align: right;\n",
              "    }\n",
              "</style>\n",
              "<table border=\"1\" class=\"dataframe\">\n",
              "  <thead>\n",
              "    <tr style=\"text-align: right;\">\n",
              "      <th></th>\n",
              "      <th>name</th>\n",
              "      <th>company</th>\n",
              "      <th>year</th>\n",
              "      <th>Price</th>\n",
              "      <th>kms_driven</th>\n",
              "      <th>fuel_type</th>\n",
              "    </tr>\n",
              "  </thead>\n",
              "  <tbody>\n",
              "    <tr>\n",
              "      <th>0</th>\n",
              "      <td>Hyundai Santro Xing</td>\n",
              "      <td>Hyundai</td>\n",
              "      <td>2007</td>\n",
              "      <td>80000</td>\n",
              "      <td>45000</td>\n",
              "      <td>Petrol</td>\n",
              "    </tr>\n",
              "    <tr>\n",
              "      <th>1</th>\n",
              "      <td>Mahindra Jeep CL550</td>\n",
              "      <td>Mahindra</td>\n",
              "      <td>2006</td>\n",
              "      <td>425000</td>\n",
              "      <td>40</td>\n",
              "      <td>Diesel</td>\n",
              "    </tr>\n",
              "    <tr>\n",
              "      <th>2</th>\n",
              "      <td>Hyundai Grand i10</td>\n",
              "      <td>Hyundai</td>\n",
              "      <td>2014</td>\n",
              "      <td>325000</td>\n",
              "      <td>28000</td>\n",
              "      <td>Petrol</td>\n",
              "    </tr>\n",
              "    <tr>\n",
              "      <th>3</th>\n",
              "      <td>Ford EcoSport Titanium</td>\n",
              "      <td>Ford</td>\n",
              "      <td>2014</td>\n",
              "      <td>575000</td>\n",
              "      <td>36000</td>\n",
              "      <td>Diesel</td>\n",
              "    </tr>\n",
              "    <tr>\n",
              "      <th>4</th>\n",
              "      <td>Ford Figo</td>\n",
              "      <td>Ford</td>\n",
              "      <td>2012</td>\n",
              "      <td>175000</td>\n",
              "      <td>41000</td>\n",
              "      <td>Diesel</td>\n",
              "    </tr>\n",
              "    <tr>\n",
              "      <th>...</th>\n",
              "      <td>...</td>\n",
              "      <td>...</td>\n",
              "      <td>...</td>\n",
              "      <td>...</td>\n",
              "      <td>...</td>\n",
              "      <td>...</td>\n",
              "    </tr>\n",
              "    <tr>\n",
              "      <th>810</th>\n",
              "      <td>Maruti Suzuki Ritz</td>\n",
              "      <td>Maruti</td>\n",
              "      <td>2011</td>\n",
              "      <td>270000</td>\n",
              "      <td>50000</td>\n",
              "      <td>Petrol</td>\n",
              "    </tr>\n",
              "    <tr>\n",
              "      <th>811</th>\n",
              "      <td>Tata Indica V2</td>\n",
              "      <td>Tata</td>\n",
              "      <td>2009</td>\n",
              "      <td>110000</td>\n",
              "      <td>30000</td>\n",
              "      <td>Diesel</td>\n",
              "    </tr>\n",
              "    <tr>\n",
              "      <th>812</th>\n",
              "      <td>Toyota Corolla Altis</td>\n",
              "      <td>Toyota</td>\n",
              "      <td>2009</td>\n",
              "      <td>300000</td>\n",
              "      <td>132000</td>\n",
              "      <td>Petrol</td>\n",
              "    </tr>\n",
              "    <tr>\n",
              "      <th>813</th>\n",
              "      <td>Tata Zest XM</td>\n",
              "      <td>Tata</td>\n",
              "      <td>2018</td>\n",
              "      <td>260000</td>\n",
              "      <td>27000</td>\n",
              "      <td>Diesel</td>\n",
              "    </tr>\n",
              "    <tr>\n",
              "      <th>814</th>\n",
              "      <td>Mahindra Quanto C8</td>\n",
              "      <td>Mahindra</td>\n",
              "      <td>2013</td>\n",
              "      <td>390000</td>\n",
              "      <td>40000</td>\n",
              "      <td>Diesel</td>\n",
              "    </tr>\n",
              "  </tbody>\n",
              "</table>\n",
              "<p>815 rows × 6 columns</p>\n",
              "</div>\n",
              "      <button class=\"colab-df-convert\" onclick=\"convertToInteractive('df-7c73e444-0bc9-4b34-a2e0-b155a196405e')\"\n",
              "              title=\"Convert this dataframe to an interactive table.\"\n",
              "              style=\"display:none;\">\n",
              "        \n",
              "  <svg xmlns=\"http://www.w3.org/2000/svg\" height=\"24px\"viewBox=\"0 0 24 24\"\n",
              "       width=\"24px\">\n",
              "    <path d=\"M0 0h24v24H0V0z\" fill=\"none\"/>\n",
              "    <path d=\"M18.56 5.44l.94 2.06.94-2.06 2.06-.94-2.06-.94-.94-2.06-.94 2.06-2.06.94zm-11 1L8.5 8.5l.94-2.06 2.06-.94-2.06-.94L8.5 2.5l-.94 2.06-2.06.94zm10 10l.94 2.06.94-2.06 2.06-.94-2.06-.94-.94-2.06-.94 2.06-2.06.94z\"/><path d=\"M17.41 7.96l-1.37-1.37c-.4-.4-.92-.59-1.43-.59-.52 0-1.04.2-1.43.59L10.3 9.45l-7.72 7.72c-.78.78-.78 2.05 0 2.83L4 21.41c.39.39.9.59 1.41.59.51 0 1.02-.2 1.41-.59l7.78-7.78 2.81-2.81c.8-.78.8-2.07 0-2.86zM5.41 20L4 18.59l7.72-7.72 1.47 1.35L5.41 20z\"/>\n",
              "  </svg>\n",
              "      </button>\n",
              "      \n",
              "  <style>\n",
              "    .colab-df-container {\n",
              "      display:flex;\n",
              "      flex-wrap:wrap;\n",
              "      gap: 12px;\n",
              "    }\n",
              "\n",
              "    .colab-df-convert {\n",
              "      background-color: #E8F0FE;\n",
              "      border: none;\n",
              "      border-radius: 50%;\n",
              "      cursor: pointer;\n",
              "      display: none;\n",
              "      fill: #1967D2;\n",
              "      height: 32px;\n",
              "      padding: 0 0 0 0;\n",
              "      width: 32px;\n",
              "    }\n",
              "\n",
              "    .colab-df-convert:hover {\n",
              "      background-color: #E2EBFA;\n",
              "      box-shadow: 0px 1px 2px rgba(60, 64, 67, 0.3), 0px 1px 3px 1px rgba(60, 64, 67, 0.15);\n",
              "      fill: #174EA6;\n",
              "    }\n",
              "\n",
              "    [theme=dark] .colab-df-convert {\n",
              "      background-color: #3B4455;\n",
              "      fill: #D2E3FC;\n",
              "    }\n",
              "\n",
              "    [theme=dark] .colab-df-convert:hover {\n",
              "      background-color: #434B5C;\n",
              "      box-shadow: 0px 1px 3px 1px rgba(0, 0, 0, 0.15);\n",
              "      filter: drop-shadow(0px 1px 2px rgba(0, 0, 0, 0.3));\n",
              "      fill: #FFFFFF;\n",
              "    }\n",
              "  </style>\n",
              "\n",
              "      <script>\n",
              "        const buttonEl =\n",
              "          document.querySelector('#df-7c73e444-0bc9-4b34-a2e0-b155a196405e button.colab-df-convert');\n",
              "        buttonEl.style.display =\n",
              "          google.colab.kernel.accessAllowed ? 'block' : 'none';\n",
              "\n",
              "        async function convertToInteractive(key) {\n",
              "          const element = document.querySelector('#df-7c73e444-0bc9-4b34-a2e0-b155a196405e');\n",
              "          const dataTable =\n",
              "            await google.colab.kernel.invokeFunction('convertToInteractive',\n",
              "                                                     [key], {});\n",
              "          if (!dataTable) return;\n",
              "\n",
              "          const docLinkHtml = 'Like what you see? Visit the ' +\n",
              "            '<a target=\"_blank\" href=https://colab.research.google.com/notebooks/data_table.ipynb>data table notebook</a>'\n",
              "            + ' to learn more about interactive tables.';\n",
              "          element.innerHTML = '';\n",
              "          dataTable['output_type'] = 'display_data';\n",
              "          await google.colab.output.renderOutput(dataTable, element);\n",
              "          const docLink = document.createElement('div');\n",
              "          docLink.innerHTML = docLinkHtml;\n",
              "          element.appendChild(docLink);\n",
              "        }\n",
              "      </script>\n",
              "    </div>\n",
              "  </div>\n",
              "  "
            ]
          },
          "metadata": {},
          "execution_count": 25
        }
      ]
    },
    {
      "cell_type": "code",
      "source": [
        "car.to_csv('Cleaned_Car.csv')"
      ],
      "metadata": {
        "id": "qIwM3GXjbZMf"
      },
      "execution_count": null,
      "outputs": []
    },
    {
      "cell_type": "markdown",
      "source": [
        "### **MODEL**"
      ],
      "metadata": {
        "id": "s7xWJ-jXbjPb"
      }
    },
    {
      "cell_type": "code",
      "source": [
        "x=car.drop(columns='Price')\n",
        "y=car['Price']"
      ],
      "metadata": {
        "id": "kMJzyjPZbrQ6"
      },
      "execution_count": null,
      "outputs": []
    },
    {
      "cell_type": "code",
      "source": [
        "x"
      ],
      "metadata": {
        "colab": {
          "base_uri": "https://localhost:8080/",
          "height": 423
        },
        "id": "fpT3dpIxBHDx",
        "outputId": "b265abbf-86f6-4e31-df84-94d87bff8f10"
      },
      "execution_count": null,
      "outputs": [
        {
          "output_type": "execute_result",
          "data": {
            "text/plain": [
              "                       name   company  year  kms_driven fuel_type\n",
              "0       Hyundai Santro Xing   Hyundai  2007       45000    Petrol\n",
              "1       Mahindra Jeep CL550  Mahindra  2006          40    Diesel\n",
              "2         Hyundai Grand i10   Hyundai  2014       28000    Petrol\n",
              "3    Ford EcoSport Titanium      Ford  2014       36000    Diesel\n",
              "4                 Ford Figo      Ford  2012       41000    Diesel\n",
              "..                      ...       ...   ...         ...       ...\n",
              "810      Maruti Suzuki Ritz    Maruti  2011       50000    Petrol\n",
              "811          Tata Indica V2      Tata  2009       30000    Diesel\n",
              "812    Toyota Corolla Altis    Toyota  2009      132000    Petrol\n",
              "813            Tata Zest XM      Tata  2018       27000    Diesel\n",
              "814      Mahindra Quanto C8  Mahindra  2013       40000    Diesel\n",
              "\n",
              "[815 rows x 5 columns]"
            ],
            "text/html": [
              "\n",
              "  <div id=\"df-a3d525b0-564d-43ba-a2bb-0a708766b363\">\n",
              "    <div class=\"colab-df-container\">\n",
              "      <div>\n",
              "<style scoped>\n",
              "    .dataframe tbody tr th:only-of-type {\n",
              "        vertical-align: middle;\n",
              "    }\n",
              "\n",
              "    .dataframe tbody tr th {\n",
              "        vertical-align: top;\n",
              "    }\n",
              "\n",
              "    .dataframe thead th {\n",
              "        text-align: right;\n",
              "    }\n",
              "</style>\n",
              "<table border=\"1\" class=\"dataframe\">\n",
              "  <thead>\n",
              "    <tr style=\"text-align: right;\">\n",
              "      <th></th>\n",
              "      <th>name</th>\n",
              "      <th>company</th>\n",
              "      <th>year</th>\n",
              "      <th>kms_driven</th>\n",
              "      <th>fuel_type</th>\n",
              "    </tr>\n",
              "  </thead>\n",
              "  <tbody>\n",
              "    <tr>\n",
              "      <th>0</th>\n",
              "      <td>Hyundai Santro Xing</td>\n",
              "      <td>Hyundai</td>\n",
              "      <td>2007</td>\n",
              "      <td>45000</td>\n",
              "      <td>Petrol</td>\n",
              "    </tr>\n",
              "    <tr>\n",
              "      <th>1</th>\n",
              "      <td>Mahindra Jeep CL550</td>\n",
              "      <td>Mahindra</td>\n",
              "      <td>2006</td>\n",
              "      <td>40</td>\n",
              "      <td>Diesel</td>\n",
              "    </tr>\n",
              "    <tr>\n",
              "      <th>2</th>\n",
              "      <td>Hyundai Grand i10</td>\n",
              "      <td>Hyundai</td>\n",
              "      <td>2014</td>\n",
              "      <td>28000</td>\n",
              "      <td>Petrol</td>\n",
              "    </tr>\n",
              "    <tr>\n",
              "      <th>3</th>\n",
              "      <td>Ford EcoSport Titanium</td>\n",
              "      <td>Ford</td>\n",
              "      <td>2014</td>\n",
              "      <td>36000</td>\n",
              "      <td>Diesel</td>\n",
              "    </tr>\n",
              "    <tr>\n",
              "      <th>4</th>\n",
              "      <td>Ford Figo</td>\n",
              "      <td>Ford</td>\n",
              "      <td>2012</td>\n",
              "      <td>41000</td>\n",
              "      <td>Diesel</td>\n",
              "    </tr>\n",
              "    <tr>\n",
              "      <th>...</th>\n",
              "      <td>...</td>\n",
              "      <td>...</td>\n",
              "      <td>...</td>\n",
              "      <td>...</td>\n",
              "      <td>...</td>\n",
              "    </tr>\n",
              "    <tr>\n",
              "      <th>810</th>\n",
              "      <td>Maruti Suzuki Ritz</td>\n",
              "      <td>Maruti</td>\n",
              "      <td>2011</td>\n",
              "      <td>50000</td>\n",
              "      <td>Petrol</td>\n",
              "    </tr>\n",
              "    <tr>\n",
              "      <th>811</th>\n",
              "      <td>Tata Indica V2</td>\n",
              "      <td>Tata</td>\n",
              "      <td>2009</td>\n",
              "      <td>30000</td>\n",
              "      <td>Diesel</td>\n",
              "    </tr>\n",
              "    <tr>\n",
              "      <th>812</th>\n",
              "      <td>Toyota Corolla Altis</td>\n",
              "      <td>Toyota</td>\n",
              "      <td>2009</td>\n",
              "      <td>132000</td>\n",
              "      <td>Petrol</td>\n",
              "    </tr>\n",
              "    <tr>\n",
              "      <th>813</th>\n",
              "      <td>Tata Zest XM</td>\n",
              "      <td>Tata</td>\n",
              "      <td>2018</td>\n",
              "      <td>27000</td>\n",
              "      <td>Diesel</td>\n",
              "    </tr>\n",
              "    <tr>\n",
              "      <th>814</th>\n",
              "      <td>Mahindra Quanto C8</td>\n",
              "      <td>Mahindra</td>\n",
              "      <td>2013</td>\n",
              "      <td>40000</td>\n",
              "      <td>Diesel</td>\n",
              "    </tr>\n",
              "  </tbody>\n",
              "</table>\n",
              "<p>815 rows × 5 columns</p>\n",
              "</div>\n",
              "      <button class=\"colab-df-convert\" onclick=\"convertToInteractive('df-a3d525b0-564d-43ba-a2bb-0a708766b363')\"\n",
              "              title=\"Convert this dataframe to an interactive table.\"\n",
              "              style=\"display:none;\">\n",
              "        \n",
              "  <svg xmlns=\"http://www.w3.org/2000/svg\" height=\"24px\"viewBox=\"0 0 24 24\"\n",
              "       width=\"24px\">\n",
              "    <path d=\"M0 0h24v24H0V0z\" fill=\"none\"/>\n",
              "    <path d=\"M18.56 5.44l.94 2.06.94-2.06 2.06-.94-2.06-.94-.94-2.06-.94 2.06-2.06.94zm-11 1L8.5 8.5l.94-2.06 2.06-.94-2.06-.94L8.5 2.5l-.94 2.06-2.06.94zm10 10l.94 2.06.94-2.06 2.06-.94-2.06-.94-.94-2.06-.94 2.06-2.06.94z\"/><path d=\"M17.41 7.96l-1.37-1.37c-.4-.4-.92-.59-1.43-.59-.52 0-1.04.2-1.43.59L10.3 9.45l-7.72 7.72c-.78.78-.78 2.05 0 2.83L4 21.41c.39.39.9.59 1.41.59.51 0 1.02-.2 1.41-.59l7.78-7.78 2.81-2.81c.8-.78.8-2.07 0-2.86zM5.41 20L4 18.59l7.72-7.72 1.47 1.35L5.41 20z\"/>\n",
              "  </svg>\n",
              "      </button>\n",
              "      \n",
              "  <style>\n",
              "    .colab-df-container {\n",
              "      display:flex;\n",
              "      flex-wrap:wrap;\n",
              "      gap: 12px;\n",
              "    }\n",
              "\n",
              "    .colab-df-convert {\n",
              "      background-color: #E8F0FE;\n",
              "      border: none;\n",
              "      border-radius: 50%;\n",
              "      cursor: pointer;\n",
              "      display: none;\n",
              "      fill: #1967D2;\n",
              "      height: 32px;\n",
              "      padding: 0 0 0 0;\n",
              "      width: 32px;\n",
              "    }\n",
              "\n",
              "    .colab-df-convert:hover {\n",
              "      background-color: #E2EBFA;\n",
              "      box-shadow: 0px 1px 2px rgba(60, 64, 67, 0.3), 0px 1px 3px 1px rgba(60, 64, 67, 0.15);\n",
              "      fill: #174EA6;\n",
              "    }\n",
              "\n",
              "    [theme=dark] .colab-df-convert {\n",
              "      background-color: #3B4455;\n",
              "      fill: #D2E3FC;\n",
              "    }\n",
              "\n",
              "    [theme=dark] .colab-df-convert:hover {\n",
              "      background-color: #434B5C;\n",
              "      box-shadow: 0px 1px 3px 1px rgba(0, 0, 0, 0.15);\n",
              "      filter: drop-shadow(0px 1px 2px rgba(0, 0, 0, 0.3));\n",
              "      fill: #FFFFFF;\n",
              "    }\n",
              "  </style>\n",
              "\n",
              "      <script>\n",
              "        const buttonEl =\n",
              "          document.querySelector('#df-a3d525b0-564d-43ba-a2bb-0a708766b363 button.colab-df-convert');\n",
              "        buttonEl.style.display =\n",
              "          google.colab.kernel.accessAllowed ? 'block' : 'none';\n",
              "\n",
              "        async function convertToInteractive(key) {\n",
              "          const element = document.querySelector('#df-a3d525b0-564d-43ba-a2bb-0a708766b363');\n",
              "          const dataTable =\n",
              "            await google.colab.kernel.invokeFunction('convertToInteractive',\n",
              "                                                     [key], {});\n",
              "          if (!dataTable) return;\n",
              "\n",
              "          const docLinkHtml = 'Like what you see? Visit the ' +\n",
              "            '<a target=\"_blank\" href=https://colab.research.google.com/notebooks/data_table.ipynb>data table notebook</a>'\n",
              "            + ' to learn more about interactive tables.';\n",
              "          element.innerHTML = '';\n",
              "          dataTable['output_type'] = 'display_data';\n",
              "          await google.colab.output.renderOutput(dataTable, element);\n",
              "          const docLink = document.createElement('div');\n",
              "          docLink.innerHTML = docLinkHtml;\n",
              "          element.appendChild(docLink);\n",
              "        }\n",
              "      </script>\n",
              "    </div>\n",
              "  </div>\n",
              "  "
            ]
          },
          "metadata": {},
          "execution_count": 28
        }
      ]
    },
    {
      "cell_type": "code",
      "source": [
        "y"
      ],
      "metadata": {
        "colab": {
          "base_uri": "https://localhost:8080/"
        },
        "id": "oy1WFM_1Br0R",
        "outputId": "463a0cd7-493f-4278-fa9e-b515e812fe92"
      },
      "execution_count": null,
      "outputs": [
        {
          "output_type": "execute_result",
          "data": {
            "text/plain": [
              "0       80000\n",
              "1      425000\n",
              "2      325000\n",
              "3      575000\n",
              "4      175000\n",
              "        ...  \n",
              "810    270000\n",
              "811    110000\n",
              "812    300000\n",
              "813    260000\n",
              "814    390000\n",
              "Name: Price, Length: 815, dtype: int64"
            ]
          },
          "metadata": {},
          "execution_count": 29
        }
      ]
    },
    {
      "cell_type": "code",
      "source": [
        "x_train,x_test,y_train,y_test=train_test_split(x,y,test_size=0.2)"
      ],
      "metadata": {
        "id": "INhM9SC8FFqy"
      },
      "execution_count": null,
      "outputs": []
    },
    {
      "cell_type": "code",
      "source": [
        "ohe=OneHotEncoder()\n",
        "ohe.fit(x[['name','company','fuel_type']])"
      ],
      "metadata": {
        "colab": {
          "base_uri": "https://localhost:8080/"
        },
        "id": "bd4zRqdOFlbU",
        "outputId": "a7e01fa2-fec2-4856-bb37-10e270f19383"
      },
      "execution_count": null,
      "outputs": [
        {
          "output_type": "execute_result",
          "data": {
            "text/plain": [
              "OneHotEncoder()"
            ]
          },
          "metadata": {},
          "execution_count": 31
        }
      ]
    },
    {
      "cell_type": "code",
      "source": [
        "ohe.categories_"
      ],
      "metadata": {
        "colab": {
          "base_uri": "https://localhost:8080/"
        },
        "id": "lXun8pGrd3qP",
        "outputId": "6f4e0ac8-69d2-473f-a56c-ae04786eea5d"
      },
      "execution_count": null,
      "outputs": [
        {
          "output_type": "execute_result",
          "data": {
            "text/plain": [
              "[array(['Audi A3 Cabriolet', 'Audi A4 1.8', 'Audi A4 2.0', 'Audi A6 2.0',\n",
              "        'Audi A8', 'Audi Q3 2.0', 'Audi Q5 2.0', 'Audi Q7', 'BMW 3 Series',\n",
              "        'BMW 5 Series', 'BMW 7 Series', 'BMW X1', 'BMW X1 sDrive20d',\n",
              "        'BMW X1 xDrive20d', 'Chevrolet Beat', 'Chevrolet Beat Diesel',\n",
              "        'Chevrolet Beat LS', 'Chevrolet Beat LT', 'Chevrolet Beat PS',\n",
              "        'Chevrolet Cruze LTZ', 'Chevrolet Enjoy', 'Chevrolet Enjoy 1.4',\n",
              "        'Chevrolet Sail 1.2', 'Chevrolet Sail UVA', 'Chevrolet Spark',\n",
              "        'Chevrolet Spark 1.0', 'Chevrolet Spark LS', 'Chevrolet Spark LT',\n",
              "        'Chevrolet Tavera LS', 'Chevrolet Tavera Neo', 'Datsun GO T',\n",
              "        'Datsun Go Plus', 'Datsun Redi GO', 'Fiat Linea Emotion',\n",
              "        'Fiat Petra ELX', 'Fiat Punto Emotion', 'Force Motors Force',\n",
              "        'Force Motors One', 'Ford EcoSport', 'Ford EcoSport Ambiente',\n",
              "        'Ford EcoSport Titanium', 'Ford EcoSport Trend',\n",
              "        'Ford Endeavor 4x4', 'Ford Fiesta', 'Ford Fiesta SXi', 'Ford Figo',\n",
              "        'Ford Figo Diesel', 'Ford Figo Duratorq', 'Ford Figo Petrol',\n",
              "        'Ford Fusion 1.4', 'Ford Ikon 1.3', 'Ford Ikon 1.6',\n",
              "        'Hindustan Motors Ambassador', 'Honda Accord', 'Honda Amaze',\n",
              "        'Honda Amaze 1.2', 'Honda Amaze 1.5', 'Honda Brio', 'Honda Brio V',\n",
              "        'Honda Brio VX', 'Honda City', 'Honda City 1.5', 'Honda City SV',\n",
              "        'Honda City VX', 'Honda City ZX', 'Honda Jazz S', 'Honda Jazz VX',\n",
              "        'Honda Mobilio', 'Honda Mobilio S', 'Honda WR V', 'Hyundai Accent',\n",
              "        'Hyundai Accent Executive', 'Hyundai Accent GLE',\n",
              "        'Hyundai Accent GLX', 'Hyundai Creta', 'Hyundai Creta 1.6',\n",
              "        'Hyundai Elantra 1.8', 'Hyundai Elantra SX', 'Hyundai Elite i20',\n",
              "        'Hyundai Eon', 'Hyundai Eon D', 'Hyundai Eon Era',\n",
              "        'Hyundai Eon Magna', 'Hyundai Eon Sportz', 'Hyundai Fluidic Verna',\n",
              "        'Hyundai Getz', 'Hyundai Getz GLE', 'Hyundai Getz Prime',\n",
              "        'Hyundai Grand i10', 'Hyundai Santro', 'Hyundai Santro AE',\n",
              "        'Hyundai Santro Xing', 'Hyundai Sonata Transform', 'Hyundai Verna',\n",
              "        'Hyundai Verna 1.4', 'Hyundai Verna 1.6', 'Hyundai Verna Fluidic',\n",
              "        'Hyundai Verna Transform', 'Hyundai Verna VGT',\n",
              "        'Hyundai Xcent Base', 'Hyundai Xcent SX', 'Hyundai i10',\n",
              "        'Hyundai i10 Era', 'Hyundai i10 Magna', 'Hyundai i10 Sportz',\n",
              "        'Hyundai i20', 'Hyundai i20 Active', 'Hyundai i20 Asta',\n",
              "        'Hyundai i20 Magna', 'Hyundai i20 Select', 'Hyundai i20 Sportz',\n",
              "        'Jaguar XE XE', 'Jaguar XF 2.2', 'Jeep Wrangler Unlimited',\n",
              "        'Land Rover Freelander', 'Mahindra Bolero DI',\n",
              "        'Mahindra Bolero Power', 'Mahindra Bolero SLE',\n",
              "        'Mahindra Jeep CL550', 'Mahindra Jeep MM', 'Mahindra KUV100',\n",
              "        'Mahindra KUV100 K8', 'Mahindra Logan', 'Mahindra Logan Diesel',\n",
              "        'Mahindra Quanto C4', 'Mahindra Quanto C8', 'Mahindra Scorpio',\n",
              "        'Mahindra Scorpio 2.6', 'Mahindra Scorpio LX',\n",
              "        'Mahindra Scorpio S10', 'Mahindra Scorpio S4',\n",
              "        'Mahindra Scorpio SLE', 'Mahindra Scorpio SLX',\n",
              "        'Mahindra Scorpio VLX', 'Mahindra Scorpio Vlx',\n",
              "        'Mahindra Scorpio W', 'Mahindra TUV300 T4', 'Mahindra TUV300 T8',\n",
              "        'Mahindra Thar CRDe', 'Mahindra XUV500', 'Mahindra XUV500 W10',\n",
              "        'Mahindra XUV500 W6', 'Mahindra XUV500 W8', 'Mahindra Xylo D2',\n",
              "        'Mahindra Xylo E4', 'Mahindra Xylo E8', 'Maruti Suzuki 800',\n",
              "        'Maruti Suzuki A', 'Maruti Suzuki Alto', 'Maruti Suzuki Baleno',\n",
              "        'Maruti Suzuki Celerio', 'Maruti Suzuki Ciaz',\n",
              "        'Maruti Suzuki Dzire', 'Maruti Suzuki Eeco',\n",
              "        'Maruti Suzuki Ertiga', 'Maruti Suzuki Esteem',\n",
              "        'Maruti Suzuki Estilo', 'Maruti Suzuki Maruti',\n",
              "        'Maruti Suzuki Omni', 'Maruti Suzuki Ritz', 'Maruti Suzuki S',\n",
              "        'Maruti Suzuki SX4', 'Maruti Suzuki Stingray',\n",
              "        'Maruti Suzuki Swift', 'Maruti Suzuki Versa',\n",
              "        'Maruti Suzuki Vitara', 'Maruti Suzuki Wagon', 'Maruti Suzuki Zen',\n",
              "        'Mercedes Benz A', 'Mercedes Benz B', 'Mercedes Benz C',\n",
              "        'Mercedes Benz GLA', 'Mini Cooper S', 'Mitsubishi Lancer 1.8',\n",
              "        'Mitsubishi Pajero Sport', 'Nissan Micra XL', 'Nissan Micra XV',\n",
              "        'Nissan Sunny', 'Nissan Sunny XL', 'Nissan Terrano XL',\n",
              "        'Nissan X Trail', 'Renault Duster', 'Renault Duster 110',\n",
              "        'Renault Duster 110PS', 'Renault Duster 85', 'Renault Duster 85PS',\n",
              "        'Renault Duster RxL', 'Renault Kwid', 'Renault Kwid 1.0',\n",
              "        'Renault Kwid RXT', 'Renault Lodgy 85', 'Renault Scala RxL',\n",
              "        'Skoda Fabia', 'Skoda Fabia 1.2L', 'Skoda Fabia Classic',\n",
              "        'Skoda Laura', 'Skoda Octavia Classic', 'Skoda Rapid Elegance',\n",
              "        'Skoda Superb 1.8', 'Skoda Yeti Ambition', 'Tata Aria Pleasure',\n",
              "        'Tata Bolt XM', 'Tata Indica', 'Tata Indica V2', 'Tata Indica eV2',\n",
              "        'Tata Indigo CS', 'Tata Indigo LS', 'Tata Indigo LX',\n",
              "        'Tata Indigo Marina', 'Tata Indigo eCS', 'Tata Manza',\n",
              "        'Tata Manza Aqua', 'Tata Manza Aura', 'Tata Manza ELAN',\n",
              "        'Tata Nano', 'Tata Nano Cx', 'Tata Nano GenX', 'Tata Nano LX',\n",
              "        'Tata Nano Lx', 'Tata Sumo Gold', 'Tata Sumo Grande',\n",
              "        'Tata Sumo Victa', 'Tata Tiago Revotorq', 'Tata Tiago Revotron',\n",
              "        'Tata Tigor Revotron', 'Tata Venture EX', 'Tata Vista Quadrajet',\n",
              "        'Tata Zest Quadrajet', 'Tata Zest XE', 'Tata Zest XM',\n",
              "        'Toyota Corolla', 'Toyota Corolla Altis', 'Toyota Corolla H2',\n",
              "        'Toyota Etios', 'Toyota Etios G', 'Toyota Etios GD',\n",
              "        'Toyota Etios Liva', 'Toyota Fortuner', 'Toyota Fortuner 3.0',\n",
              "        'Toyota Innova 2.0', 'Toyota Innova 2.5', 'Toyota Qualis',\n",
              "        'Volkswagen Jetta Comfortline', 'Volkswagen Jetta Highline',\n",
              "        'Volkswagen Passat Diesel', 'Volkswagen Polo',\n",
              "        'Volkswagen Polo Comfortline', 'Volkswagen Polo Highline',\n",
              "        'Volkswagen Polo Highline1.2L', 'Volkswagen Polo Trendline',\n",
              "        'Volkswagen Vento Comfortline', 'Volkswagen Vento Highline',\n",
              "        'Volkswagen Vento Konekt', 'Volvo S80 Summum'], dtype=object),\n",
              " array(['Audi', 'BMW', 'Chevrolet', 'Datsun', 'Fiat', 'Force', 'Ford',\n",
              "        'Hindustan', 'Honda', 'Hyundai', 'Jaguar', 'Jeep', 'Land',\n",
              "        'Mahindra', 'Maruti', 'Mercedes', 'Mini', 'Mitsubishi', 'Nissan',\n",
              "        'Renault', 'Skoda', 'Tata', 'Toyota', 'Volkswagen', 'Volvo'],\n",
              "       dtype=object),\n",
              " array(['Diesel', 'LPG', 'Petrol'], dtype=object)]"
            ]
          },
          "metadata": {},
          "execution_count": 36
        }
      ]
    },
    {
      "cell_type": "code",
      "source": [
        "column_trans= make_column_transformer((OneHotEncoder(categories=ohe.categories_),['name','company','fuel_type']),remainder='passthrough')"
      ],
      "metadata": {
        "id": "EBG3mo0SG9Yd"
      },
      "execution_count": null,
      "outputs": []
    },
    {
      "cell_type": "code",
      "source": [
        "lr=LinearRegression()"
      ],
      "metadata": {
        "id": "-biDHD6FH2g5"
      },
      "execution_count": null,
      "outputs": []
    },
    {
      "cell_type": "code",
      "source": [
        "pipe=make_pipeline(column_trans,lr)"
      ],
      "metadata": {
        "id": "43FuXwFFH8OC"
      },
      "execution_count": null,
      "outputs": []
    },
    {
      "cell_type": "code",
      "source": [
        "pipe.fit(x_train,y_train)"
      ],
      "metadata": {
        "colab": {
          "base_uri": "https://localhost:8080/"
        },
        "id": "fkFXRFAfIVr_",
        "outputId": "17b3583c-42ff-476c-faa7-ca64ba3dd195"
      },
      "execution_count": null,
      "outputs": [
        {
          "output_type": "execute_result",
          "data": {
            "text/plain": [
              "Pipeline(steps=[('columntransformer',\n",
              "                 ColumnTransformer(remainder='passthrough',\n",
              "                                   transformers=[('onehotencoder',\n",
              "                                                  OneHotEncoder(categories=[array(['Audi A3 Cabriolet', 'Audi A4 1.8', 'Audi A4 2.0', 'Audi A6 2.0',\n",
              "       'Audi A8', 'Audi Q3 2.0', 'Audi Q5 2.0', 'Audi Q7', 'BMW 3 Series',\n",
              "       'BMW 5 Series', 'BMW 7 Series', 'BMW X1', 'BMW X1 sDrive20d',\n",
              "       'BMW X1 xDrive20d', 'Chevrolet Beat', 'Chevrolet Beat...\n",
              "                                                                            array(['Audi', 'BMW', 'Chevrolet', 'Datsun', 'Fiat', 'Force', 'Ford',\n",
              "       'Hindustan', 'Honda', 'Hyundai', 'Jaguar', 'Jeep', 'Land',\n",
              "       'Mahindra', 'Maruti', 'Mercedes', 'Mini', 'Mitsubishi', 'Nissan',\n",
              "       'Renault', 'Skoda', 'Tata', 'Toyota', 'Volkswagen', 'Volvo'],\n",
              "      dtype=object),\n",
              "                                                                            array(['Diesel', 'LPG', 'Petrol'], dtype=object)]),\n",
              "                                                  ['name', 'company',\n",
              "                                                   'fuel_type'])])),\n",
              "                ('linearregression', LinearRegression())])"
            ]
          },
          "metadata": {},
          "execution_count": 54
        }
      ]
    },
    {
      "cell_type": "code",
      "source": [
        "y_pred=pipe.predict(x_test)"
      ],
      "metadata": {
        "id": "YAvrGT5BeQyt"
      },
      "execution_count": null,
      "outputs": []
    },
    {
      "cell_type": "code",
      "source": [
        "r2_score(y_test,y_pred)"
      ],
      "metadata": {
        "colab": {
          "base_uri": "https://localhost:8080/"
        },
        "id": "N_hK0cnggwWu",
        "outputId": "c4fe173c-4f26-4eb9-9ef0-6eadf3a63646"
      },
      "execution_count": null,
      "outputs": [
        {
          "output_type": "execute_result",
          "data": {
            "text/plain": [
              "0.7301747857656848"
            ]
          },
          "metadata": {},
          "execution_count": 66
        }
      ]
    }
  ]
}